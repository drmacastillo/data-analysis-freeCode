{
 "cells": [
  {
   "cell_type": "code",
   "execution_count": 1,
   "id": "06518205-94b2-4f9a-b13e-ec6666f881c9",
   "metadata": {},
   "outputs": [],
   "source": [
    "import numpy as np"
   ]
  },
  {
   "cell_type": "code",
   "execution_count": 2,
   "id": "c7d7786b-cfba-48cd-acf2-769894221faa",
   "metadata": {},
   "outputs": [],
   "source": [
    "def calculate(list):\n",
    "  if len(list) < 9:\n",
    "      raise ValueError(\"List must contain nine numbers.\")\n",
    "\n",
    "  np_matriz = np.array(list).reshape(3, 3)\n",
    "  sum_row = np.sum(np_matriz, axis = 1)\n",
    "  sum_col = np.sum(np_matriz, axis = 0)\n",
    "  sum_flat = np.sum(np_matriz)\n",
    "  mean_row = np.mean(np_matriz, axis = 1)\n",
    "  mean_col = np.mean(np_matriz, axis = 0)\n",
    "  mean_flat = np.mean(np_matriz)\n",
    "  var_row = np.var(np_matriz, axis = 1)\n",
    "  var_col = np.var(np_matriz, axis = 0)\n",
    "  var_flat = np.var(np_matriz)\n",
    "  std_row = np.std(np_matriz, axis = 1)\n",
    "  std_col = np.std(np_matriz, axis = 0)\n",
    "  std_flat = np.std(np_matriz)\n",
    "  max_row = np.max(np_matriz, axis = 1)\n",
    "  max_col = np.max(np_matriz, axis = 0)\n",
    "  max_flat = np.max(np_matriz)\n",
    "  min_row = np.min(np_matriz, axis = 1)\n",
    "  min_col = np.min(np_matriz, axis = 0)\n",
    "  min_flat = np.min(np_matriz)\n",
    "  calculations = {}\n",
    "  calculations['mean'] = [mean_col.tolist(), mean_row.tolist(), mean_flat]\n",
    "  calculations['variance'] = [var_col.tolist(), var_row.tolist(), var_flat]\n",
    "  calculations['standard deviation'] = [std_col.tolist(), std_row.tolist(), std_flat]\n",
    "  calculations['max'] = [ max_col.tolist(),  max_row.tolist(), max_flat]\n",
    "  calculations['min'] = [ min_col.tolist(),  min_row.tolist(), min_flat]\n",
    "  calculations['sum'] = [sum_col.tolist(), sum_row.tolist(), sum_flat]\n",
    "  return calculations"
   ]
  },
  {
   "cell_type": "code",
   "execution_count": 4,
   "id": "0e12c2da-2bd4-4f13-a151-598c4e66c455",
   "metadata": {},
   "outputs": [
    {
     "name": "stdout",
     "output_type": "stream",
     "text": [
      "{'mean': [[3.0, 4.0, 5.0], [1.0, 4.0, 7.0], 4.0], 'variance': [[6.0, 6.0, 6.0], [0.6666666666666666, 0.6666666666666666, 0.6666666666666666], 6.666666666666667], 'standard deviation': [[2.449489742783178, 2.449489742783178, 2.449489742783178], [0.816496580927726, 0.816496580927726, 0.816496580927726], 2.581988897471611], 'max': [[6, 7, 8], [2, 5, 8], 8], 'min': [[0, 1, 2], [0, 3, 6], 0], 'sum': [[9, 12, 15], [3, 12, 21], 36]}\n"
     ]
    }
   ],
   "source": [
    "print(calculate([0,1,2,3,4,5,6,7,8]));"
   ]
  },
  {
   "cell_type": "code",
   "execution_count": null,
   "id": "390cc4c2-e223-4705-ad6b-68a39ddba0fd",
   "metadata": {},
   "outputs": [],
   "source": []
  }
 ],
 "metadata": {
  "kernelspec": {
   "display_name": "Python 3 (ipykernel)",
   "language": "python",
   "name": "python3"
  },
  "language_info": {
   "codemirror_mode": {
    "name": "ipython",
    "version": 3
   },
   "file_extension": ".py",
   "mimetype": "text/x-python",
   "name": "python",
   "nbconvert_exporter": "python",
   "pygments_lexer": "ipython3",
   "version": "3.12.1"
  }
 },
 "nbformat": 4,
 "nbformat_minor": 5
}
